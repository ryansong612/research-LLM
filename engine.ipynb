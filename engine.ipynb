{
 "cells": [
  {
   "cell_type": "code",
   "execution_count": 9,
   "outputs": [],
   "source": [
    "import numpy as np\n",
    "import tensorflow_hub as hub\n",
    "import matplotlib.pyplot as plt\n",
    "import json"
   ],
   "metadata": {
    "collapsed": false
   }
  },
  {
   "cell_type": "code",
   "execution_count": 10,
   "outputs": [],
   "source": [
    "#Read Chemistry abstract title data from desktop#\n",
    "documents = []\n",
    "with open('/Users/ryansong612/Desktop/research-LLM/output/all.json', 'r') as file:\n",
    "    data = json.load(file)\n",
    "    for subject in data:\n",
    "        for article in data[subject]:\n",
    "            document = { \"subject\": subject,\n",
    "                         \"title\": article[\"title\"],\n",
    "                         \"abstract\": article[\"abstract\"]}\n",
    "            documents.append(document)\n",
    "\n",
    "#define embedding calculation function#\n",
    "def embed_sentences(sentences):\n",
    "    # Load the Universal Sentence Encoder module\n",
    "    module_url = \"https://tfhub.dev/google/universal-sentence-encoder/4\"\n",
    "    model = hub.load(module_url)\n",
    "    # Generate embeddings for the sentences\n",
    "    embeddings = model(sentences)\n",
    "    return embeddings\n",
    "\n",
    "#define similarity calculation function based on dot product#\n",
    "def compute_similarity(embedding1, embedding2):\n",
    "    # Compute cosine similarity between two embeddings\n",
    "    res = np.tensordot(embedding1, embedding2, 1)\n",
    "    return res"
   ],
   "metadata": {
    "collapsed": false
   }
  },
  {
   "cell_type": "code",
   "execution_count": 11,
   "outputs": [
    {
     "ename": "ValueError",
     "evalue": "Trying to load a model of incompatible/unknown type. '/var/folders/88/nnr56dmj3w7d93f3z9926yj00000gn/T/tfhub_modules/063d866c06683311b44b4992fd46003be952409c' contains neither 'saved_model.pb' nor 'saved_model.pbtxt'.",
     "output_type": "error",
     "traceback": [
      "\u001B[0;31m---------------------------------------------------------------------------\u001B[0m",
      "\u001B[0;31mValueError\u001B[0m                                Traceback (most recent call last)",
      "Cell \u001B[0;32mIn[11], line 2\u001B[0m\n\u001B[1;32m      1\u001B[0m query \u001B[38;5;241m=\u001B[39m \u001B[38;5;28minput\u001B[39m(\u001B[38;5;124m'\u001B[39m\u001B[38;5;124mEnter query: \u001B[39m\u001B[38;5;124m'\u001B[39m)\n\u001B[0;32m----> 2\u001B[0m query_vec \u001B[38;5;241m=\u001B[39m \u001B[43membed_sentences\u001B[49m\u001B[43m(\u001B[49m\u001B[43m[\u001B[49m\u001B[43mquery\u001B[49m\u001B[43m]\u001B[49m\u001B[43m)\u001B[49m[\u001B[38;5;241m0\u001B[39m]\n\u001B[1;32m      3\u001B[0m test \u001B[38;5;241m=\u001B[39m [documents[i][\u001B[38;5;124m\"\u001B[39m\u001B[38;5;124mtitle\u001B[39m\u001B[38;5;124m\"\u001B[39m]\u001B[38;5;241m+\u001B[39mdocuments[i][\u001B[38;5;124m\"\u001B[39m\u001B[38;5;124mabstract\u001B[39m\u001B[38;5;124m\"\u001B[39m] \u001B[38;5;28;01mfor\u001B[39;00m i \u001B[38;5;129;01min\u001B[39;00m \u001B[38;5;28mrange\u001B[39m(\u001B[38;5;28mlen\u001B[39m(documents))]\n\u001B[1;32m      4\u001B[0m embed \u001B[38;5;241m=\u001B[39m embed_sentences(test)\n",
      "Cell \u001B[0;32mIn[10], line 16\u001B[0m, in \u001B[0;36membed_sentences\u001B[0;34m(sentences)\u001B[0m\n\u001B[1;32m     13\u001B[0m \u001B[38;5;28;01mdef\u001B[39;00m \u001B[38;5;21membed_sentences\u001B[39m(sentences):\n\u001B[1;32m     14\u001B[0m     \u001B[38;5;66;03m# Load the Universal Sentence Encoder module\u001B[39;00m\n\u001B[1;32m     15\u001B[0m     module_url \u001B[38;5;241m=\u001B[39m \u001B[38;5;124m\"\u001B[39m\u001B[38;5;124mhttps://tfhub.dev/google/universal-sentence-encoder/4\u001B[39m\u001B[38;5;124m\"\u001B[39m\n\u001B[0;32m---> 16\u001B[0m     model \u001B[38;5;241m=\u001B[39m \u001B[43mhub\u001B[49m\u001B[38;5;241;43m.\u001B[39;49m\u001B[43mload\u001B[49m\u001B[43m(\u001B[49m\u001B[43mmodule_url\u001B[49m\u001B[43m)\u001B[49m\n\u001B[1;32m     17\u001B[0m     \u001B[38;5;66;03m# Generate embeddings for the sentences\u001B[39;00m\n\u001B[1;32m     18\u001B[0m     embeddings \u001B[38;5;241m=\u001B[39m model(sentences)\n",
      "File \u001B[0;32m~/Desktop/research-LLM/venv/lib/python3.10/site-packages/tensorflow_hub/module_v2.py:107\u001B[0m, in \u001B[0;36mload\u001B[0;34m(handle, tags, options)\u001B[0m\n\u001B[1;32m    102\u001B[0m saved_model_pbtxt_path \u001B[38;5;241m=\u001B[39m os\u001B[38;5;241m.\u001B[39mpath\u001B[38;5;241m.\u001B[39mjoin(\n\u001B[1;32m    103\u001B[0m     tf\u001B[38;5;241m.\u001B[39mcompat\u001B[38;5;241m.\u001B[39mas_bytes(module_path),\n\u001B[1;32m    104\u001B[0m     tf\u001B[38;5;241m.\u001B[39mcompat\u001B[38;5;241m.\u001B[39mas_bytes(tf\u001B[38;5;241m.\u001B[39msaved_model\u001B[38;5;241m.\u001B[39mSAVED_MODEL_FILENAME_PBTXT))\n\u001B[1;32m    105\u001B[0m \u001B[38;5;28;01mif\u001B[39;00m (\u001B[38;5;129;01mnot\u001B[39;00m tf\u001B[38;5;241m.\u001B[39mio\u001B[38;5;241m.\u001B[39mgfile\u001B[38;5;241m.\u001B[39mexists(saved_model_path) \u001B[38;5;129;01mand\u001B[39;00m\n\u001B[1;32m    106\u001B[0m     \u001B[38;5;129;01mnot\u001B[39;00m tf\u001B[38;5;241m.\u001B[39mio\u001B[38;5;241m.\u001B[39mgfile\u001B[38;5;241m.\u001B[39mexists(saved_model_pbtxt_path)):\n\u001B[0;32m--> 107\u001B[0m   \u001B[38;5;28;01mraise\u001B[39;00m \u001B[38;5;167;01mValueError\u001B[39;00m(\u001B[38;5;124m\"\u001B[39m\u001B[38;5;124mTrying to load a model of incompatible/unknown type. \u001B[39m\u001B[38;5;124m\"\u001B[39m\n\u001B[1;32m    108\u001B[0m                    \u001B[38;5;124m\"\u001B[39m\u001B[38;5;124m'\u001B[39m\u001B[38;5;132;01m%s\u001B[39;00m\u001B[38;5;124m'\u001B[39m\u001B[38;5;124m contains neither \u001B[39m\u001B[38;5;124m'\u001B[39m\u001B[38;5;132;01m%s\u001B[39;00m\u001B[38;5;124m'\u001B[39m\u001B[38;5;124m nor \u001B[39m\u001B[38;5;124m'\u001B[39m\u001B[38;5;132;01m%s\u001B[39;00m\u001B[38;5;124m'\u001B[39m\u001B[38;5;124m.\u001B[39m\u001B[38;5;124m\"\u001B[39m \u001B[38;5;241m%\u001B[39m\n\u001B[1;32m    109\u001B[0m                    (module_path, tf\u001B[38;5;241m.\u001B[39msaved_model\u001B[38;5;241m.\u001B[39mSAVED_MODEL_FILENAME_PB,\n\u001B[1;32m    110\u001B[0m                     tf\u001B[38;5;241m.\u001B[39msaved_model\u001B[38;5;241m.\u001B[39mSAVED_MODEL_FILENAME_PBTXT))\n\u001B[1;32m    112\u001B[0m \u001B[38;5;28;01mif\u001B[39;00m options:\n\u001B[1;32m    113\u001B[0m   \u001B[38;5;28;01mif\u001B[39;00m \u001B[38;5;129;01mnot\u001B[39;00m \u001B[38;5;28mhasattr\u001B[39m(\u001B[38;5;28mgetattr\u001B[39m(tf, \u001B[38;5;124m\"\u001B[39m\u001B[38;5;124msaved_model\u001B[39m\u001B[38;5;124m\"\u001B[39m, \u001B[38;5;28;01mNone\u001B[39;00m), \u001B[38;5;124m\"\u001B[39m\u001B[38;5;124mLoadOptions\u001B[39m\u001B[38;5;124m\"\u001B[39m):\n",
      "\u001B[0;31mValueError\u001B[0m: Trying to load a model of incompatible/unknown type. '/var/folders/88/nnr56dmj3w7d93f3z9926yj00000gn/T/tfhub_modules/063d866c06683311b44b4992fd46003be952409c' contains neither 'saved_model.pb' nor 'saved_model.pbtxt'."
     ]
    }
   ],
   "source": [
    "query = input('Enter query: ')\n",
    "query_vec = embed_sentences([query])[0]\n",
    "test = [documents[i][\"title\"]+documents[i][\"abstract\"] for i in range(len(documents))]\n",
    "embed = embed_sentences(test)\n",
    "simi1 = {i: compute_similarity(query_vec,embed[i]) for i in range(len(embed))}"
   ],
   "metadata": {
    "collapsed": false
   }
  },
  {
   "cell_type": "code",
   "execution_count": 101,
   "outputs": [],
   "source": [
    "index_max = max(range(len(simi1)), key=simi1.__getitem__)"
   ],
   "metadata": {
    "collapsed": false
   }
  },
  {
   "cell_type": "code",
   "execution_count": 106,
   "outputs": [
    {
     "data": {
      "text/plain": "4765"
     },
     "execution_count": 106,
     "metadata": {},
     "output_type": "execute_result"
    }
   ],
   "source": [
    "index_max"
   ],
   "metadata": {
    "collapsed": false
   }
  },
  {
   "cell_type": "code",
   "execution_count": 107,
   "outputs": [
    {
     "data": {
      "text/plain": "{'subject': 'q-bio',\n 'title': 'Sparsity-depth Tradeoff in Infinitely Wide Deep Neural Networks',\n 'abstract': 'We investigate how sparse neural activity affects the generalization\\nperformance of a deep Bayesian neural network at the large width limit. To this\\nend, we derive a neural network Gaussian Process (NNGP) kernel with rectified\\nlinear unit (ReLU) activation and a predetermined fraction of active neurons.\\nUsing the NNGP kernel, we observe that the sparser networks outperform the\\nnon-sparse networks at shallow depths on a variety of datasets. We validate\\nthis observation by extending the existing theory on the generalization error\\nof kernel-ridge regression.\\n'}"
     },
     "execution_count": 107,
     "metadata": {},
     "output_type": "execute_result"
    }
   ],
   "source": [
    "documents[index_max]"
   ],
   "metadata": {
    "collapsed": false
   }
  },
  {
   "cell_type": "code",
   "execution_count": 108,
   "outputs": [
    {
     "data": {
      "text/plain": "array(0.3261717, dtype=float32)"
     },
     "execution_count": 108,
     "metadata": {},
     "output_type": "execute_result"
    }
   ],
   "source": [
    "simi1[5]"
   ],
   "metadata": {
    "collapsed": false
   }
  },
  {
   "cell_type": "code",
   "execution_count": 109,
   "outputs": [
    {
     "data": {
      "text/plain": "[<matplotlib.lines.Line2D at 0x29793f6a0>]"
     },
     "execution_count": 109,
     "metadata": {},
     "output_type": "execute_result"
    },
    {
     "data": {
      "text/plain": "<Figure size 640x480 with 1 Axes>",
      "image/png": "[encoded data removed]"
     },
     "metadata": {},
     "output_type": "display_data"
    }
   ],
   "source": [
    "a = list(simi1.values())\n",
    "plt.plot(a)"
   ],
   "metadata": {
    "collapsed": false
   }
  },
  {
   "cell_type": "code",
   "execution_count": 110,
   "outputs": [],
   "source": [
    "def SearchPaper(key_sentence):\n",
    "    global documents\n",
    "    results = []\n",
    "    no = 0\n",
    "    while no < len(documents):\n",
    "        content = documents[no][\"abstract\"] + documents[no][\"title\"]\n",
    "        search = content.find(key_sentence)\n",
    "        if search != -1:\n",
    "            results.append(no)\n",
    "        no += 1\n",
    "\n",
    "    print(\"Identified these papers (id):\")\n",
    "    msg = \"id: {id}\\ntitle: {title}\\nabstract:\\n{abstract}\"\n",
    "    for id in results:\n",
    "        title = documents[id]['title']\n",
    "        abstract = documents[id]['abstract']\n",
    "        print(msg.format(id=id, title=title, abstract=abstract))\n"
   ],
   "metadata": {
    "collapsed": false
   }
  },
  {
   "cell_type": "code",
   "execution_count": 111,
   "outputs": [
    {
     "data": {
      "text/plain": "2274"
     },
     "execution_count": 111,
     "metadata": {},
     "output_type": "execute_result"
    }
   ],
   "source": [
    "maximum = 0\n",
    "idx = 0\n",
    "counter = 0\n",
    "\n",
    "for counter, sim in enumerate(simi1.values()):\n",
    "    if sim > maximum:\n",
    "        maximum = sim\n",
    "        idx = counter\n",
    "\n",
    "idx"
   ],
   "metadata": {
    "collapsed": false
   }
  },
  {
   "cell_type": "code",
   "execution_count": 112,
   "outputs": [
    {
     "data": {
      "text/plain": "{'subject': 'cs',\n 'title': 'Modelling Concurrency Bugs Using Machine Learning',\n 'abstract': 'ificial Intelligence has gained a lot of traction in the recent years,\\nwith machine learning notably starting to see more applications across a varied\\nrange of fields. One specific machine learning application that is of interest\\nto us is that of software safety and security, especially in the context of\\nparallel programs. The issue of being able to detect concurrency bugs\\nautomatically has intrigued programmers for a long time, as the added layer of\\ncomplexity makes concurrent programs more prone to failure. The development of\\nsuch automatic detection tools provides considerable benefits to programmers in\\nterms of saving time while debugging, as well as reducing the number of\\nunexpected bugs. We believe machine learning may help achieve this goal by\\nproviding additional advantages over current approaches, in terms of both\\noverall tool accuracy as well as programming language flexibility. However, due\\nto the presence of numerous challenges specific to the machine learning\\napproach (correctly labelling a sufficiently large dataset, finding the best\\nmodel types/architectures and so forth), we have to approach each issue of\\ndeveloping such a tool separately. Therefore, the focus of this project is on\\ncomparing both common and recent machine learning approaches. We abstract away\\nthe complexity of procuring a labelled dataset of concurrent programs under the\\nform of a synthetic dataset that we define and generate with the scope of\\nsimulating real-life (concurrent) programs. We formulate hypotheses about\\nfundamental limits of various machine learning model types which we then\\nvalidate by running extensive tests on our synthetic dataset. We hope that our\\nfindings provide more insight in the advantages and disadvantages of various\\nmodel types when modelling programs using machine learning, as well as any\\nother related field (e.g. NLP).\\n'}"
     },
     "execution_count": 112,
     "metadata": {},
     "output_type": "execute_result"
    }
   ],
   "source": [
    "documents[idx]"
   ],
   "metadata": {
    "collapsed": false
   }
  },
  {
   "cell_type": "code",
   "execution_count": 83,
   "outputs": [
    {
     "name": "stdout",
     "output_type": "stream",
     "text": [
      "12.776252627372742\n"
     ]
    }
   ],
   "source": [
    "vec1 = embed_sentences([\"Explain the effectiveness of the Multi-modal Deep-symphysis Prompt Tuning for Large Pre-trained  Vision-Language Models\"])[0]\n",
    "vec2 = embed_sentences([documents[5]['title']])[0]\n",
    "similarity = compute_similarity(vec1, vec2)\n",
    "print(similarity*100)"
   ],
   "metadata": {
    "collapsed": false
   }
  },
  {
   "cell_type": "code",
   "execution_count": 84,
   "outputs": [
    {
     "name": "stdout",
     "output_type": "stream",
     "text": [
      "100.0\n"
     ]
    }
   ],
   "source": [
    "#testing1#\n",
    "embd1 = embed_sentences([\"Application of computer science in mathematics.\"])[0]\n",
    "embd2 = embed_sentences([\"Application of computer science in mathematics.\"])[0]\n",
    "similarity = compute_similarity(embd1, embd2)\n",
    "print(similarity*100)"
   ],
   "metadata": {
    "collapsed": false
   }
  },
  {
   "cell_type": "code",
   "execution_count": 85,
   "outputs": [
    {
     "name": "stdout",
     "output_type": "stream",
     "text": [
      "100.0\n"
     ]
    }
   ],
   "source": [
    "#testing2#\n",
    "embd1 = embed_sentences([\"Application of computer science in mathematics.\"])[0]\n",
    "embd2 = embed_sentences([\"Application of computer science in mathematics\"])[0]\n",
    "similarity=compute_similarity(embd1, embd2)\n",
    "print(similarity*100)"
   ],
   "metadata": {
    "collapsed": false
   }
  },
  {
   "cell_type": "code",
   "execution_count": 86,
   "outputs": [
    {
     "name": "stdout",
     "output_type": "stream",
     "text": [
      "100.0\n"
     ]
    }
   ],
   "source": [
    "#testing3#\n",
    "embd1 = embed_sentences([\"Application of computer science in mathematics\"])[0]\n",
    "embd2 = embed_sentences([\"Application of computer science in mathematics\"])[0]\n",
    "similarity=compute_similarity(embd1, embd2)\n",
    "print(similarity*100)"
   ],
   "metadata": {
    "collapsed": false
   }
  },
  {
   "cell_type": "code",
   "execution_count": 87,
   "outputs": [
    {
     "name": "stdout",
     "output_type": "stream",
     "text": [
      "57.259440422058105\n"
     ]
    }
   ],
   "source": [
    "#testing4#\n",
    "embd1 = embed_sentences([\"Application of computer science in mathematics.\"])[0]\n",
    "embd2 = embed_sentences([\"Application of computer science in mathematics.Tom loves Marry.\"])[0]\n",
    "similarity = compute_similarity(embd1, embd2)\n",
    "print(similarity*100)"
   ],
   "metadata": {
    "collapsed": false
   }
  },
  {
   "cell_type": "code",
   "execution_count": 88,
   "outputs": [
    {
     "name": "stdout",
     "output_type": "stream",
     "text": [
      "65.91236591339111\n"
     ]
    }
   ],
   "source": [
    "#testing5#\n",
    "embd1 = embed_sentences([\"Application of computer science in mathematics.\"])[0]\n",
    "embd2 = embed_sentences([\"Application of computer science in mathematics Tom loves Marry.\"])[0]\n",
    "similarity=compute_similarity(embd1, embd2)\n",
    "print(similarity*100)"
   ],
   "metadata": {
    "collapsed": false
   }
  },
  {
   "cell_type": "code",
   "execution_count": 89,
   "outputs": [
    {
     "name": "stdout",
     "output_type": "stream",
     "text": [
      "41.47316217422485\n"
     ]
    }
   ],
   "source": [
    "#testing6#\n",
    "embd1 = embed_sentences([\"Application of computer science in mathematics.\"])[0]\n",
    "embd2 = embed_sentences([\"Application of computer science in mathematics Tom loves Marry Jerry loves Tom.\"])[0]\n",
    "similarity=compute_similarity(embd1, embd2)\n",
    "print(similarity*100)"
   ],
   "metadata": {
    "collapsed": false
   }
  },
  {
   "cell_type": "code",
   "execution_count": 90,
   "outputs": [
    {
     "name": "stdout",
     "output_type": "stream",
     "text": [
      "41.47316217422485\n"
     ]
    }
   ],
   "source": [
    "#testing7#\n",
    "embd1 = embed_sentences([\"Application of computer science in mathematics.\"])[0]\n",
    "embd2 = embed_sentences([\"Application of computer science in mathematics. Tom loves Marry. Jerry loves Tom.\"])[0]\n",
    "similarity=compute_similarity(embd1, embd2)\n",
    "print(similarity*100)\n"
   ],
   "metadata": {
    "collapsed": false
   }
  },
  {
   "cell_type": "code",
   "execution_count": 42,
   "outputs": [
    {
     "data": {
      "text/plain": "<tf.Tensor: shape=(1, 2, 2), dtype=int32, numpy=\narray([[[1, 2],\n        [2, 4]]], dtype=int32)>"
     },
     "execution_count": 42,
     "metadata": {},
     "output_type": "execute_result"
    }
   ],
   "source": [],
   "metadata": {
    "collapsed": false
   }
  },
  {
   "cell_type": "code",
   "execution_count": null,
   "outputs": [],
   "source": [],
   "metadata": {
    "collapsed": false
   }
  }
 ],
 "metadata": {
  "kernelspec": {
   "display_name": "Python 3",
   "language": "python",
   "name": "python3"
  },
  "language_info": {
   "codemirror_mode": {
    "name": "ipython",
    "version": 2
   },
   "file_extension": ".py",
   "mimetype": "text/x-python",
   "name": "python",
   "nbconvert_exporter": "python",
   "pygments_lexer": "ipython2",
   "version": "2.7.6"
  }
 },
 "nbformat": 4,
 "nbformat_minor": 0
}
